{
 "cells": [
  {
   "cell_type": "code",
   "execution_count": 2,
   "metadata": {
    "scrolled": true
   },
   "outputs": [
    {
     "name": "stdout",
     "output_type": "stream",
     "text": [
      "----------------------------------------\n",
      " User defined List :-\n",
      " [3, 5, 7, 2, 8, 10, 11, 65, 72, 81, 99, 100, 150] \n",
      " User Define Window Size :-\t 3 \n",
      "----------------------------------------\n",
      " Result Using above defined Funtion :\t\n",
      " Moving average value :\n",
      " [5.0, 4.67, 5.67, 6.67, 9.67, 28.67, 49.33, 72.67, 84.0, 93.33, 116.33]\n",
      " Moving average seques has :- 11, values\n",
      "----------------------------------------\n"
     ]
    }
   ],
   "source": [
    "# # 1.Given a sequence of n values x1, x2, ..., xn and a window size k>0, the k-th moving average of  the given sequence is defined as follows: The moving average sequence has n-k+1 elements as shown below. The moving averages with k=4 of a ten-value sequence (n=10) is shown below\n",
    "# i 1 2 3 4 5 6 7 8 9 10\n",
    "#===== == == == == == == == == == ==\n",
    "#Input 10 20 30 40 50 60 70 80 90 100\n",
    "# y1 25 = (10+20+30+40)/4\n",
    "# y2 35 = (20+30+40+50)/4\n",
    "# y3 45 = (30+40+50+60)/4\n",
    "# y4 55 = (40+50+60+70)/4\n",
    "# y5 65 = (50+60+70+80)/4\n",
    "# y6 75 = (60+70+80+90)/4\n",
    "# y7 85 = (70+80+90+100)/4\n",
    "# Thus, the moving average sequence has n-k+1=10-4+1=7 values.\n",
    "# Problem Statement:\n",
    "# Write a function to find moving average in an array over a window: Test it over [3, 5, 7, 2, 8, 10, 11, 65, 72, 81, 99, 100, 150] and window of 3.\n",
    "\n",
    "List_a = [3,5,7,2,8,10,11,65,72,81,99,100,150]\n",
    "\n",
    "moving_seq = 3\n",
    "cummlative_sum , moving_average = [0],[]\n",
    "\n",
    "def Moving_average_fun(List_a, moveing_seq): \n",
    "    N =  moving_seq \n",
    "    for i , j  in enumerate(List_a,1): \n",
    "        cummlative_sum.append(cummlative_sum[i-1] + j) \n",
    "\n",
    "        if i>=N: \n",
    "            moving_ave = round((cummlative_sum[i] - cummlative_sum[i-N])/N,2) \n",
    "\n",
    "            moving_average.append(moving_ave) \n",
    "    return (moving_average), len(moving_average) \n",
    "\n",
    "Result_fun = Moving_average_fun(List_a,moving_seq)\n",
    "\n",
    "print (\"----\"*10)\n",
    "print (\" User defined List :-\\n {} \\n User Define Window Size :-\\t {} \".format(List_a,moving_seq))\n",
    "print (\"----\"*10)\n",
    "print (\" Result Using above defined Funtion :\\t\")\n",
    "print (\" Moving average value :\\n\",Result_fun[0])\n",
    "print (\" Moving average seques has :- {}, values\".format(Result_fun[1]))\n",
    "print (\"----\"*10)\n",
    "\n",
    "\n",
    "\n",
    "\n",
    "\n",
    "\n",
    "\n"
   ]
  },
  {
   "cell_type": "code",
   "execution_count": null,
   "metadata": {},
   "outputs": [],
   "source": []
  }
 ],
 "metadata": {
  "kernelspec": {
   "display_name": "Python 3",
   "language": "python",
   "name": "python3"
  },
  "language_info": {
   "codemirror_mode": {
    "name": "ipython",
    "version": 3
   },
   "file_extension": ".py",
   "mimetype": "text/x-python",
   "name": "python",
   "nbconvert_exporter": "python",
   "pygments_lexer": "ipython3",
   "version": "3.6.5"
  }
 },
 "nbformat": 4,
 "nbformat_minor": 2
}
